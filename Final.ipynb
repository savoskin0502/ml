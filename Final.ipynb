{
 "cells": [
  {
   "cell_type": "markdown",
   "metadata": {},
   "source": [
    "![](https://pbs.twimg.com/media/DiR9vbVX4AEhTFu.jpg)\n",
    "# Machine Learning FINAL PROJECT\n",
    "# Labelled Faces in the Wild\n",
    "### Team members: Savoskin Roman, Biryukova Alexandra, Amambayeva Meruert\n",
    "### Goal: Create a model that correctly identifies famous person on the photo and find images with high accuracy\n",
    "### Dataset: LFW https://www.kaggle.com/jessicali9530/lfw-dataset"
   ]
  },
  {
   "cell_type": "code",
   "execution_count": 369,
   "metadata": {},
   "outputs": [],
   "source": [
    "import os\n",
    "import matplotlib.pyplot as plt\n",
    "import pandas as pd\n",
    "import numpy as np\n",
    "from collections import OrderedDict\n",
    "from PIL import Image\n",
    "import keras\n",
    "from sklearn.model_selection import train_test_split\n",
    "import shutil\n",
    "from shutil import unpack_archive\n",
    "from subprocess import check_output\n",
    "from keras.models import Sequential\n",
    "from keras.layers import Conv2D, MaxPooling2D, Flatten, Dense, Dropout\n",
    "from keras.preprocessing import image\n",
    "# image height, weight\n",
    "TARGET_SIZE = (250, 250)"
   ]
  },
  {
   "cell_type": "markdown",
   "metadata": {},
   "source": [
    "# Working with directories\n",
    "In the work below we will also work with creation, removing and deleting the directories (in particular with working with train, validations and test datasets). Instead of code rewriting, we made a decision to create several function for future reusing"
   ]
  },
  {
   "cell_type": "code",
   "execution_count": 2,
   "metadata": {},
   "outputs": [],
   "source": [
    "def create_dir(name, path=''):\n",
    "    dirName = ''.join([path, name])\n",
    "    try:\n",
    "        os.makedirs(dirName)    \n",
    "        print(\"Directory \" , dirName ,  \" Created \")\n",
    "    except FileExistsError:\n",
    "        print(\"Directory \" , dirName ,  \" already exists\")\n",
    "\n",
    "def del_dir(dir_path):\n",
    "    import shutil\n",
    "    try:\n",
    "        shutil.rmtree(dir_path)\n",
    "    except OSError as e:\n",
    "        print(\"Error: %s : %s\" % (dir_path, e.strerror))"
   ]
  },
  {
   "cell_type": "markdown",
   "metadata": {},
   "source": [
    "# Working with dataset\n",
    "We successfully downloaded dataset from the kaggle, and now we are interested in taking information about:\n",
    "1. How many people are in the dataset?\n",
    "2. How many images are in every person's folder?\n",
    "\n",
    "All this information is already done for us in the special file name *lfg_allnames.csv*"
   ]
  },
  {
   "cell_type": "code",
   "execution_count": 3,
   "metadata": {},
   "outputs": [
    {
     "data": {
      "text/html": [
       "<div>\n",
       "<style scoped>\n",
       "    .dataframe tbody tr th:only-of-type {\n",
       "        vertical-align: middle;\n",
       "    }\n",
       "\n",
       "    .dataframe tbody tr th {\n",
       "        vertical-align: top;\n",
       "    }\n",
       "\n",
       "    .dataframe thead th {\n",
       "        text-align: right;\n",
       "    }\n",
       "</style>\n",
       "<table border=\"1\" class=\"dataframe\">\n",
       "  <thead>\n",
       "    <tr style=\"text-align: right;\">\n",
       "      <th></th>\n",
       "      <th>name</th>\n",
       "      <th>images</th>\n",
       "    </tr>\n",
       "  </thead>\n",
       "  <tbody>\n",
       "    <tr>\n",
       "      <th>0</th>\n",
       "      <td>AJ_Cook</td>\n",
       "      <td>1</td>\n",
       "    </tr>\n",
       "    <tr>\n",
       "      <th>1</th>\n",
       "      <td>AJ_Lamas</td>\n",
       "      <td>1</td>\n",
       "    </tr>\n",
       "    <tr>\n",
       "      <th>2</th>\n",
       "      <td>Aaron_Eckhart</td>\n",
       "      <td>1</td>\n",
       "    </tr>\n",
       "    <tr>\n",
       "      <th>3</th>\n",
       "      <td>Aaron_Guiel</td>\n",
       "      <td>1</td>\n",
       "    </tr>\n",
       "    <tr>\n",
       "      <th>4</th>\n",
       "      <td>Aaron_Patterson</td>\n",
       "      <td>1</td>\n",
       "    </tr>\n",
       "  </tbody>\n",
       "</table>\n",
       "</div>"
      ],
      "text/plain": [
       "              name  images\n",
       "0          AJ_Cook       1\n",
       "1         AJ_Lamas       1\n",
       "2    Aaron_Eckhart       1\n",
       "3      Aaron_Guiel       1\n",
       "4  Aaron_Patterson       1"
      ]
     },
     "execution_count": 3,
     "metadata": {},
     "output_type": "execute_result"
    }
   ],
   "source": [
    "# folder with all names and number of images, according to someone\n",
    "all_names = pd.read_csv(\"./lfw-dataset/lfw_allnames.csv\")\n",
    "all_names.head()"
   ]
  },
  {
   "cell_type": "markdown",
   "metadata": {},
   "source": [
    "# Extract the data to work\n",
    "Now our data is unstructured, let's take in one place and prepare data with that we will work\n",
    "### Step 1: \n",
    "We are going to work with image paths without any folders, so we need to get all existed images. First of all we create as much images with default paths(which consist only of person's name) as there are in each folder. Ex:\n",
    "\n",
    "If there are 4 images in Aaron_Pearsol folder, we will add following default paths to image_path:\n",
    "\n",
    "1.\"Aaron_Pearsol\" \n",
    "\n",
    "2.\"Aaron_Pearsol\"\n",
    "\n",
    "3.\"Aaron_Pearsol\" \n",
    "\n",
    "4.\"Aaron_Pearsol\"\n",
    "\n",
    "### Step 2: \n",
    "All images in the folder of each person are numbered in increasing order (0001, 0002 etc), moreover, each image has name in the same format *\"Folder_nameXXXX.jpg\"* so we take that into account and use that nice structure and order to parse them to according paths"
   ]
  },
  {
   "cell_type": "code",
   "execution_count": 187,
   "metadata": {},
   "outputs": [
    {
     "data": {
      "text/html": [
       "<div>\n",
       "<style scoped>\n",
       "    .dataframe tbody tr th:only-of-type {\n",
       "        vertical-align: middle;\n",
       "    }\n",
       "\n",
       "    .dataframe tbody tr th {\n",
       "        vertical-align: top;\n",
       "    }\n",
       "\n",
       "    .dataframe thead th {\n",
       "        text-align: right;\n",
       "    }\n",
       "</style>\n",
       "<table border=\"1\" class=\"dataframe\">\n",
       "  <thead>\n",
       "    <tr style=\"text-align: right;\">\n",
       "      <th></th>\n",
       "      <th>name</th>\n",
       "      <th>images</th>\n",
       "      <th>image_path</th>\n",
       "    </tr>\n",
       "  </thead>\n",
       "  <tbody>\n",
       "    <tr>\n",
       "      <th>2574</th>\n",
       "      <td>Jim_Beattie</td>\n",
       "      <td>1</td>\n",
       "      <td>Jim_Beattie/Jim_Beattie_0001.jpg</td>\n",
       "    </tr>\n",
       "    <tr>\n",
       "      <th>1020</th>\n",
       "      <td>Claudia_Coslovich</td>\n",
       "      <td>1</td>\n",
       "      <td>Claudia_Coslovich/Claudia_Coslovich_0001.jpg</td>\n",
       "    </tr>\n",
       "    <tr>\n",
       "      <th>620</th>\n",
       "      <td>Bobby_Goldwater</td>\n",
       "      <td>2</td>\n",
       "      <td>Bobby_Goldwater/Bobby_Goldwater_0002.jpg</td>\n",
       "    </tr>\n",
       "    <tr>\n",
       "      <th>2468</th>\n",
       "      <td>Jean_Chretien</td>\n",
       "      <td>55</td>\n",
       "      <td>Jean_Chretien/Jean_Chretien_0019.jpg</td>\n",
       "    </tr>\n",
       "    <tr>\n",
       "      <th>2647</th>\n",
       "      <td>Joe_Cravens</td>\n",
       "      <td>1</td>\n",
       "      <td>Joe_Cravens/Joe_Cravens_0001.jpg</td>\n",
       "    </tr>\n",
       "    <tr>\n",
       "      <th>1047</th>\n",
       "      <td>Colin_Powell</td>\n",
       "      <td>236</td>\n",
       "      <td>Colin_Powell/Colin_Powell_0190.jpg</td>\n",
       "    </tr>\n",
       "    <tr>\n",
       "      <th>941</th>\n",
       "      <td>Chris_Klein</td>\n",
       "      <td>1</td>\n",
       "      <td>Chris_Klein/Chris_Klein_0001.jpg</td>\n",
       "    </tr>\n",
       "    <tr>\n",
       "      <th>5458</th>\n",
       "      <td>Tony_Blair</td>\n",
       "      <td>144</td>\n",
       "      <td>Tony_Blair/Tony_Blair_0026.jpg</td>\n",
       "    </tr>\n",
       "    <tr>\n",
       "      <th>706</th>\n",
       "      <td>Britney_Spears</td>\n",
       "      <td>14</td>\n",
       "      <td>Britney_Spears/Britney_Spears_0012.jpg</td>\n",
       "    </tr>\n",
       "    <tr>\n",
       "      <th>2682</th>\n",
       "      <td>John_Ashcroft</td>\n",
       "      <td>53</td>\n",
       "      <td>John_Ashcroft/John_Ashcroft_0003.jpg</td>\n",
       "    </tr>\n",
       "  </tbody>\n",
       "</table>\n",
       "</div>"
      ],
      "text/plain": [
       "                   name  images                                    image_path\n",
       "2574        Jim_Beattie       1              Jim_Beattie/Jim_Beattie_0001.jpg\n",
       "1020  Claudia_Coslovich       1  Claudia_Coslovich/Claudia_Coslovich_0001.jpg\n",
       "620     Bobby_Goldwater       2      Bobby_Goldwater/Bobby_Goldwater_0002.jpg\n",
       "2468      Jean_Chretien      55          Jean_Chretien/Jean_Chretien_0019.jpg\n",
       "2647        Joe_Cravens       1              Joe_Cravens/Joe_Cravens_0001.jpg\n",
       "1047       Colin_Powell     236            Colin_Powell/Colin_Powell_0190.jpg\n",
       "941         Chris_Klein       1              Chris_Klein/Chris_Klein_0001.jpg\n",
       "5458         Tony_Blair     144                Tony_Blair/Tony_Blair_0026.jpg\n",
       "706      Britney_Spears      14        Britney_Spears/Britney_Spears_0012.jpg\n",
       "2682      John_Ashcroft      53          John_Ashcroft/John_Ashcroft_0003.jpg"
      ]
     },
     "execution_count": 187,
     "metadata": {},
     "output_type": "execute_result"
    }
   ],
   "source": [
    "image_paths = all_names.loc[all_names.index.repeat(all_names['images'])]\n",
    "image_paths[\"image_path\"] = 1 + image_paths.groupby('name').cumcount()\n",
    "image_paths[\"image_path\"] = image_paths.image_path.apply(lambda x: '{0:0>4}'.format(x))\n",
    "image_paths[\"image_path\"] = image_paths.name + \"/\" + image_paths.name + \"_\" + image_paths.image_path + \".jpg\"\n",
    "image_paths.sample(10)"
   ]
  },
  {
   "cell_type": "markdown",
   "metadata": {},
   "source": [
    "# Visualize and understand the data\n",
    "### There're several factors in which we are interested: \n",
    "+ Standard deviation\n",
    "+ Average (mean of images count)\n",
    "+ Distribution according to % approach\n",
    "\n",
    "### From these factors we understand that we have an extremely asymmetric distribution and may be it will be better to prepare data at first. We are disturbed by poor distribution because:\n",
    "+ Our model can overfit on one persons, and underfit on others\n",
    "+ It's less representative and can't really describe the real situation\n",
    "\n",
    "##### To make sure that we won't spend a lot of time on training our model, we take only subset of people that we will classify and all with more that 50 pictures"
   ]
  },
  {
   "cell_type": "code",
   "execution_count": 214,
   "metadata": {},
   "outputs": [
    {
     "name": "stdout",
     "output_type": "stream",
     "text": [
      "       images_count\n",
      "count   5749.000000\n",
      "mean       2.301792\n",
      "std        9.016410\n",
      "min        1.000000\n",
      "25%        1.000000\n",
      "50%        1.000000\n",
      "75%        2.000000\n",
      "max      530.000000\n"
     ]
    },
    {
     "data": {
      "text/html": [
       "<div>\n",
       "<style scoped>\n",
       "    .dataframe tbody tr th:only-of-type {\n",
       "        vertical-align: middle;\n",
       "    }\n",
       "\n",
       "    .dataframe tbody tr th {\n",
       "        vertical-align: top;\n",
       "    }\n",
       "\n",
       "    .dataframe thead th {\n",
       "        text-align: right;\n",
       "    }\n",
       "</style>\n",
       "<table border=\"1\" class=\"dataframe\">\n",
       "  <thead>\n",
       "    <tr style=\"text-align: right;\">\n",
       "      <th></th>\n",
       "      <th>name</th>\n",
       "      <th>images_count</th>\n",
       "    </tr>\n",
       "  </thead>\n",
       "  <tbody>\n",
       "    <tr>\n",
       "      <th>7</th>\n",
       "      <td>Junichiro_Koizumi</td>\n",
       "      <td>60</td>\n",
       "    </tr>\n",
       "    <tr>\n",
       "      <th>8</th>\n",
       "      <td>Jean_Chretien</td>\n",
       "      <td>55</td>\n",
       "    </tr>\n",
       "    <tr>\n",
       "      <th>9</th>\n",
       "      <td>John_Ashcroft</td>\n",
       "      <td>53</td>\n",
       "    </tr>\n",
       "    <tr>\n",
       "      <th>10</th>\n",
       "      <td>Jacques_Chirac</td>\n",
       "      <td>52</td>\n",
       "    </tr>\n",
       "    <tr>\n",
       "      <th>11</th>\n",
       "      <td>Serena_Williams</td>\n",
       "      <td>52</td>\n",
       "    </tr>\n",
       "  </tbody>\n",
       "</table>\n",
       "</div>"
      ],
      "text/plain": [
       "                 name  images_count\n",
       "7   Junichiro_Koizumi            60\n",
       "8       Jean_Chretien            55\n",
       "9       John_Ashcroft            53\n",
       "10     Jacques_Chirac            52\n",
       "11    Serena_Williams            52"
      ]
     },
     "execution_count": 214,
     "metadata": {},
     "output_type": "execute_result"
    }
   ],
   "source": [
    "df = pd.DataFrame(image_paths['name'].value_counts()).reset_index(drop=False)\n",
    "df.columns = ['name', 'images_count']\n",
    "print(df.describe())\n",
    "df = df[df.images_count > 50]\n",
    "df.tail()"
   ]
  },
  {
   "cell_type": "code",
   "execution_count": 217,
   "metadata": {
    "scrolled": false
   },
   "outputs": [
    {
     "data": {
      "text/plain": [
       "<matplotlib.axes._subplots.AxesSubplot at 0x1478cd748>"
      ]
     },
     "execution_count": 217,
     "metadata": {},
     "output_type": "execute_result"
    },
    {
     "data": {
      "image/png": "[encoded data removed]",
      "text/plain": [
       "<Figure size 864x576 with 1 Axes>"
      ]
     },
     "metadata": {},
     "output_type": "display_data"
    }
   ],
   "source": [
    "plt.figure(figsize=(12, 8))\n",
    "df['images_count'].hist()"
   ]
  },
  {
   "cell_type": "markdown",
   "metadata": {},
   "source": [
    "# Prepare the Data\n",
    "### To make our data normally distributed was done the following:\n",
    "+ Just divide data into equal samples, (Person A images) = (Person B images) = (Person C images) etc\n",
    "\n",
    "##### It will be better if we split our datasets into different folders, for better work (train data - folder1, test data - folder2, validation data - folder 3), so we did it"
   ]
  },
  {
   "cell_type": "code",
   "execution_count": 218,
   "metadata": {},
   "outputs": [
    {
     "data": {
      "text/html": [
       "<div>\n",
       "<style scoped>\n",
       "    .dataframe tbody tr th:only-of-type {\n",
       "        vertical-align: middle;\n",
       "    }\n",
       "\n",
       "    .dataframe tbody tr th {\n",
       "        vertical-align: top;\n",
       "    }\n",
       "\n",
       "    .dataframe thead th {\n",
       "        text-align: right;\n",
       "    }\n",
       "</style>\n",
       "<table border=\"1\" class=\"dataframe\">\n",
       "  <thead>\n",
       "    <tr style=\"text-align: right;\">\n",
       "      <th></th>\n",
       "      <th>name</th>\n",
       "      <th>image_path</th>\n",
       "    </tr>\n",
       "  </thead>\n",
       "  <tbody>\n",
       "    <tr>\n",
       "      <th>2468</th>\n",
       "      <td>Jean_Chretien</td>\n",
       "      <td>Jean_Chretien/Jean_Chretien_0055.jpg</td>\n",
       "    </tr>\n",
       "    <tr>\n",
       "      <th>1404</th>\n",
       "      <td>Donald_Rumsfeld</td>\n",
       "      <td>Donald_Rumsfeld/Donald_Rumsfeld_0002.jpg</td>\n",
       "    </tr>\n",
       "    <tr>\n",
       "      <th>1404</th>\n",
       "      <td>Donald_Rumsfeld</td>\n",
       "      <td>Donald_Rumsfeld/Donald_Rumsfeld_0006.jpg</td>\n",
       "    </tr>\n",
       "    <tr>\n",
       "      <th>1871</th>\n",
       "      <td>George_W_Bush</td>\n",
       "      <td>George_W_Bush/George_W_Bush_0292.jpg</td>\n",
       "    </tr>\n",
       "    <tr>\n",
       "      <th>2175</th>\n",
       "      <td>Hugo_Chavez</td>\n",
       "      <td>Hugo_Chavez/Hugo_Chavez_0065.jpg</td>\n",
       "    </tr>\n",
       "    <tr>\n",
       "      <th>1892</th>\n",
       "      <td>Gerhard_Schroeder</td>\n",
       "      <td>Gerhard_Schroeder/Gerhard_Schroeder_0053.jpg</td>\n",
       "    </tr>\n",
       "    <tr>\n",
       "      <th>2175</th>\n",
       "      <td>Hugo_Chavez</td>\n",
       "      <td>Hugo_Chavez/Hugo_Chavez_0020.jpg</td>\n",
       "    </tr>\n",
       "    <tr>\n",
       "      <th>1892</th>\n",
       "      <td>Gerhard_Schroeder</td>\n",
       "      <td>Gerhard_Schroeder/Gerhard_Schroeder_0041.jpg</td>\n",
       "    </tr>\n",
       "    <tr>\n",
       "      <th>1404</th>\n",
       "      <td>Donald_Rumsfeld</td>\n",
       "      <td>Donald_Rumsfeld/Donald_Rumsfeld_0098.jpg</td>\n",
       "    </tr>\n",
       "    <tr>\n",
       "      <th>2175</th>\n",
       "      <td>Hugo_Chavez</td>\n",
       "      <td>Hugo_Chavez/Hugo_Chavez_0024.jpg</td>\n",
       "    </tr>\n",
       "  </tbody>\n",
       "</table>\n",
       "</div>"
      ],
      "text/plain": [
       "                   name                                    image_path\n",
       "2468      Jean_Chretien          Jean_Chretien/Jean_Chretien_0055.jpg\n",
       "1404    Donald_Rumsfeld      Donald_Rumsfeld/Donald_Rumsfeld_0002.jpg\n",
       "1404    Donald_Rumsfeld      Donald_Rumsfeld/Donald_Rumsfeld_0006.jpg\n",
       "1871      George_W_Bush          George_W_Bush/George_W_Bush_0292.jpg\n",
       "2175        Hugo_Chavez              Hugo_Chavez/Hugo_Chavez_0065.jpg\n",
       "1892  Gerhard_Schroeder  Gerhard_Schroeder/Gerhard_Schroeder_0053.jpg\n",
       "2175        Hugo_Chavez              Hugo_Chavez/Hugo_Chavez_0020.jpg\n",
       "1892  Gerhard_Schroeder  Gerhard_Schroeder/Gerhard_Schroeder_0041.jpg\n",
       "1404    Donald_Rumsfeld      Donald_Rumsfeld/Donald_Rumsfeld_0098.jpg\n",
       "2175        Hugo_Chavez              Hugo_Chavez/Hugo_Chavez_0024.jpg"
      ]
     },
     "execution_count": 218,
     "metadata": {},
     "output_type": "execute_result"
    }
   ],
   "source": [
    "# extract equal sized samples for each person; choose person in the set, identify min number of corresponding\n",
    "# to some person images, choose as size for all other samples => sample all people\n",
    "targets = pd.concat([image_paths[image_paths.name==name].sample(df['images_count'].min())\\\n",
    "                     for name in df['name'].unique()])\n",
    "targets = targets.drop('images', 1)\n",
    "targets.sample(10)"
   ]
  },
  {
   "cell_type": "code",
   "execution_count": 219,
   "metadata": {},
   "outputs": [],
   "source": [
    "# as our data presented in the form dataframe, where name is Y and image from image_path (vector of the image)\n",
    "# as X, then we can just instead of division to x_train, y_train, x_test, y_test etc\n",
    "train, test = train_test_split(targets, test_size=0.20)\n",
    "train, val = train_test_split(train, test_size=0.20)"
   ]
  },
  {
   "cell_type": "code",
   "execution_count": 221,
   "metadata": {},
   "outputs": [],
   "source": [
    "def save_dataset(data,dir_name):\n",
    "    \"\"\" \n",
    "    data - all images\n",
    "    dir_name - path to store these images\n",
    "    use user custom function 'create_dir()' to create\n",
    "    folder with path and system os kernel functions\n",
    "    to move files from one directory to another\n",
    "    \"\"\"\n",
    "    pointer = 0\n",
    "    for image in data.image_path:\n",
    "        if not os.path.exists(os.path.join('main/',dir_name)):\n",
    "            create_dir(os.path.join('main/',dir_name))\n",
    "        data_type = data[data['image_path'] == image]['name']\n",
    "        data_type = str(list(data_type)[0])\n",
    "        if not os.path.exists(os.path.join('main/',dir_name,data_type)):\n",
    "            shutil.os.mkdir(os.path.join('main/',dir_name,data_type))\n",
    "        path_from = os.path.join('./lfw-dataset/lfw-deepfunneled/lfw-deepfunneled/',image)\n",
    "        path_to = os.path.join('main/',dir_name,data_type)\n",
    "        shutil.copy(path_from, path_to)\n",
    "        pointer = pointer + 1"
   ]
  },
  {
   "cell_type": "code",
   "execution_count": 222,
   "metadata": {},
   "outputs": [
    {
     "name": "stdout",
     "output_type": "stream",
     "text": [
      "Directory  main/train/  Created \n",
      "Directory  main/test/  Created \n",
      "Directory  main/val/  Created \n"
     ]
    }
   ],
   "source": [
    "save_dataset(train,\"train/\")\n",
    "save_dataset(test,\"test/\")\n",
    "save_dataset(val,\"val/\")"
   ]
  },
  {
   "cell_type": "markdown",
   "metadata": {},
   "source": [
    "# Build our model\n",
    "### We write base model that we will improve in the future, for the start there was two models, the first model was very simple, the second was a bit complex and expected to be improved over our work\n",
    "\n",
    "### Model architecture, version 1\n",
    "+ Activation functions is relu\n",
    "+ Input shape as three dimensional 250x250 size images\n",
    "+ Dropout set to 0.5 means that we drop exactly half of our model weights at step, were we call dropout(make 0)\n",
    "\n",
    "### Why RELU?\n",
    "- computationally efficient\n",
    "- better convergence (especially with comparing with sigmoid function)\n",
    "<!-- ###### computationally efficient -->\n",
    "<!-- ###### better convergence (especially with comparing with sigmoid function) -->"
   ]
  },
  {
   "cell_type": "code",
   "execution_count": 232,
   "metadata": {},
   "outputs": [],
   "source": [
    "# model = Sequential()\n",
    "# model.add(Conv2D(32, (3, 3), input_shape = (250, 250, 3), activation = 'relu'))\n",
    "# model.add(MaxPooling2D(pool_size = (2, 2)))\n",
    "# model.add(Flatten())\n",
    "# model.add(Dense(128, activation = 'relu'))\n",
    "# model.add(Dense(len(df['name']), activation = 'softmax'))\n",
    "# model.compile(optimizer = 'adam', loss = 'categorical_crossentropy', metrics = ['accuracy'])\n",
    "model = Sequential()\n",
    "model.add(Conv2D(32, (3, 3), activation='relu', input_shape=(250, 250, 3)))\n",
    "model.add(Conv2D(32, (3, 3), activation='relu'))  \n",
    "model.add(Conv2D(32, (3, 3), activation='relu'))\n",
    "model.add(MaxPooling2D((2, 2)))\n",
    "model.add(Conv2D(64, (3, 3),  activation='relu'))\n",
    "model.add(Conv2D(64, (3, 3),activation='relu'))   \n",
    "model.add(MaxPooling2D((2, 2)))\n",
    "model.add(Conv2D(128, (3, 3), activation='relu')) \n",
    "model.add(Conv2D(128, (3, 3), activation='relu')) \n",
    "model.add(Flatten())\n",
    "model.add(Dropout(0.5))\n",
    "model.add(Dense(12, activation='softmax'))\n",
    "\n",
    "model.compile(optimizer = 'adam', loss = 'categorical_crossentropy', metrics = ['accuracy'])"
   ]
  },
  {
   "cell_type": "markdown",
   "metadata": {},
   "source": [
    "### Augmentation and preprocessing using ImageDataGenerator to boost the performance\n",
    "+ Normalize the data by rescaling to rgb/255\n",
    "+ Range for random zoom\n",
    "+ Randomly flip inputs horizontally\n",
    "+ Choose degree range for random rotations\n",
    "+ Others doesn't affect on the model\n",
    "\n",
    "#### *All perfect values for the variables were researched and found in the internet*"
   ]
  },
  {
   "cell_type": "code",
   "execution_count": 233,
   "metadata": {},
   "outputs": [],
   "source": [
    "# data augmentation and normalization\n",
    "train_datagen = keras.preprocessing.image.ImageDataGenerator(rescale = 1./255, shear_range = 0.2,\\\n",
    "                                                             zoom_range = 0.2, horizontal_flip = True)\n",
    "test_datagen = keras.preprocessing.image.ImageDataGenerator(rescale = 1./255)"
   ]
  },
  {
   "cell_type": "markdown",
   "metadata": {},
   "source": [
    "## Good batch \n",
    "You cannot pass through a neural network all at once. Therefore, we divide the data into packages, sets or parties, just as a large article is divided into many sections - introduction, gradient descent, epochs, batch size and iteration. Such a breakdown makes it easier to read and understand the article. \n",
    "\n",
    "##### A larger batch size will give you a better gradient and will help to prevent jumping around\n",
    "## But..\n",
    "A batch_size that is too large can cause memory problems. As soon as we exceed the limit, we can dial it back until it works. This will help us to determine the maximum packet size that our system can handle. But..we weren't ready for such kind of experiments...\n",
    "\n",
    "##### Too large packet size can lead to a freeze at local minimums, so if our training gets stuck, it will be better to reduce the batch size. I.e we overfit our jump and can't minimize the loss function"
   ]
  },
  {
   "cell_type": "code",
   "execution_count": 234,
   "metadata": {},
   "outputs": [
    {
     "name": "stdout",
     "output_type": "stream",
     "text": [
      "Found 399 images belonging to 12 classes.\n"
     ]
    }
   ],
   "source": [
    "# we apply datagen function that takes the path to a directory and generates batches \n",
    "# of augmented/normalized data that was identified in the datagen\n",
    "# class_mode can be binary, categorical, input, multi_output, raw, sparse or None\n",
    "# \"binary\": 1D numpy array of binary labels,\n",
    "# \"categorical\": 2D numpy array of one-hot encoded labels. Supports multi-label output.\n",
    "# \"input\": images identical to input images (mainly used to work with autoencoders),\n",
    "# \"multi_output\": list with the values of the different columns,\n",
    "# \"raw\": numpy array of values in y_col column(s),\n",
    "# \"sparse\": 1D numpy array of integer labels,\n",
    "# None, no targets are returned (the generator will only yield batches of image data, \n",
    "#                                which is useful to use in model.predict_generator()).\n",
    "training_set = train_datagen.flow_from_directory('main/train/',\n",
    "                                                 target_size = TARGET_SIZE,\n",
    "                                                 batch_size = 32,\n",
    "                                                 class_mode = 'categorical')"
   ]
  },
  {
   "cell_type": "code",
   "execution_count": 235,
   "metadata": {
    "scrolled": true
   },
   "outputs": [
    {
     "name": "stdout",
     "output_type": "stream",
     "text": [
      "Found 100 images belonging to 12 classes.\n"
     ]
    }
   ],
   "source": [
    "val_set = test_datagen.flow_from_directory('main/val/',\n",
    "                                            target_size = TARGET_SIZE,\n",
    "                                            batch_size = 32,\n",
    "                                            class_mode = 'categorical')"
   ]
  },
  {
   "cell_type": "code",
   "execution_count": 236,
   "metadata": {},
   "outputs": [
    {
     "name": "stdout",
     "output_type": "stream",
     "text": [
      "Found 125 images belonging to 12 classes.\n"
     ]
    }
   ],
   "source": [
    "test_set = test_datagen.flow_from_directory('main/test/',\n",
    "                                            target_size = TARGET_SIZE,\n",
    "                                            batch_size = 32,\n",
    "                                            class_mode = 'categorical')"
   ]
  },
  {
   "cell_type": "markdown",
   "metadata": {},
   "source": [
    "### Choosing parameters and fit_generator idea\n",
    "\n",
    "Ideally we should use all validation data at once for the reason that if we use only part of our validation data, we will get different metrics for each batch, i.e our model can be better or much worst in real, than we think. So theoretically, if our batch size is a size of packet (set of data), then we suggest that validation_steps = total_val_sample // batch_size(validation set). Doing in that way we have the situation that all data passed exactly 1 time at each epoch, the same corresponds to the steps_per_epoch\n",
    "\n",
    "### And what we had?\n",
    "+ steps per epoch = len(train sample) / batch size(train sample)\n",
    "+ validation steps = len(val sample) / batch size (validation sample)\n",
    "+ at each epoch we should train exactly entire train and validate sets\n",
    "\n",
    "##### fit generator just trains our model on data that generated batch by batch and all of that runs in parallel. \n",
    "# Don't run the following cell, it is for demonstration purposes, we are going to show how we work to improve model accuracy"
   ]
  },
  {
   "cell_type": "code",
   "execution_count": 237,
   "metadata": {
    "scrolled": false
   },
   "outputs": [
    {
     "name": "stdout",
     "output_type": "stream",
     "text": [
      "Epoch 1/12\n",
      "13/13 [==============================] - 109s 8s/step - loss: 2.5731 - accuracy: 0.0576 - val_loss: 2.5001 - val_accuracy: 0.0900\n",
      "Epoch 2/12\n",
      "13/13 [==============================] - 109s 8s/step - loss: 2.4763 - accuracy: 0.1378 - val_loss: 2.4176 - val_accuracy: 0.0900\n",
      "Epoch 3/12\n",
      "13/13 [==============================] - 107s 8s/step - loss: 2.4025 - accuracy: 0.1529 - val_loss: 2.3830 - val_accuracy: 0.2000\n",
      "Epoch 4/12\n",
      "13/13 [==============================] - 107s 8s/step - loss: 2.2118 - accuracy: 0.2431 - val_loss: 2.0591 - val_accuracy: 0.2700\n",
      "Epoch 5/12\n",
      "13/13 [==============================] - 108s 8s/step - loss: 1.9190 - accuracy: 0.3709 - val_loss: 1.4383 - val_accuracy: 0.3100\n",
      "Epoch 6/12\n",
      "13/13 [==============================] - 107s 8s/step - loss: 1.8650 - accuracy: 0.3759 - val_loss: 1.7149 - val_accuracy: 0.3500\n",
      "Epoch 7/12\n",
      "13/13 [==============================] - 109s 8s/step - loss: 1.7004 - accuracy: 0.4411 - val_loss: 2.2002 - val_accuracy: 0.4200\n",
      "Epoch 8/12\n",
      "13/13 [==============================] - 116s 9s/step - loss: 1.5850 - accuracy: 0.4586 - val_loss: 1.3957 - val_accuracy: 0.4700\n",
      "Epoch 9/12\n",
      "13/13 [==============================] - 108s 8s/step - loss: 1.4854 - accuracy: 0.5263 - val_loss: 1.8531 - val_accuracy: 0.4200\n",
      "Epoch 10/12\n",
      "13/13 [==============================] - 111s 9s/step - loss: 1.2737 - accuracy: 0.5739 - val_loss: 1.7402 - val_accuracy: 0.5400\n",
      "Epoch 11/12\n",
      "13/13 [==============================] - 109s 8s/step - loss: 1.2669 - accuracy: 0.6165 - val_loss: 1.6604 - val_accuracy: 0.4900\n",
      "Epoch 12/12\n",
      "13/13 [==============================] - 118s 9s/step - loss: 1.2266 - accuracy: 0.6090 - val_loss: 0.9542 - val_accuracy: 0.5800\n"
     ]
    }
   ],
   "source": [
    "history = model.fit_generator(training_set, steps_per_epoch = 13, epochs = 12,\\\n",
    "                              validation_data = val_set, validation_steps = 4)"
   ]
  },
  {
   "cell_type": "markdown",
   "metadata": {},
   "source": [
    "From the results above and graphs below, we see that despite the fact that our train and validate accuracy are the same, but it's pronounced underfitting. The main problem, right now, can be in the Dropout part of our model that drop a lot of weights (half right now). We exclude dropout from the model, and if there also will problems with Dropout, we will se in the side of number of epochs"
   ]
  },
  {
   "cell_type": "code",
   "execution_count": 462,
   "metadata": {
    "scrolled": false
   },
   "outputs": [
    {
     "data": {
      "image/png": "[encoded data removed]",
      "text/plain": [
       "<Figure size 432x288 with 1 Axes>"
      ]
     },
     "metadata": {},
     "output_type": "display_data"
    },
    {
     "data": {
      "image/png": "[encoded data removed]",
      "text/plain": [
       "<Figure size 432x288 with 1 Axes>"
      ]
     },
     "metadata": {},
     "output_type": "display_data"
    }
   ],
   "source": [
    "def plot_history(history):\n",
    "    plt.plot(history.history['accuracy'])\n",
    "    plt.plot(history.history['val_accuracy'])\n",
    "    plt.title('model accuracy')\n",
    "    plt.ylabel('accuracy')\n",
    "    plt.xlabel('epoch')\n",
    "    plt.legend(['train', 'val'], loc='upper left')\n",
    "    plt.show()\n",
    "    \n",
    "    plt.plot(history.history['loss'])\n",
    "    plt.plot(history.history['val_loss'])\n",
    "    plt.title('model loss')\n",
    "    plt.ylabel('loss')\n",
    "    plt.xlabel('epoch')\n",
    "    plt.legend(['train', 'val'], loc='upper left')\n",
    "    plt.show()\n",
    "plot_history(history)"
   ]
  },
  {
   "cell_type": "code",
   "execution_count": 286,
   "metadata": {},
   "outputs": [],
   "source": [
    "# second try \n",
    "model_v1 = Sequential()\n",
    "model_v1.add(Conv2D(32, (3, 3), activation='relu', input_shape=(250, 250, 3)))\n",
    "model_v1.add(Conv2D(32, (3, 3), activation='relu'))  \n",
    "model_v1.add(Conv2D(32, (3, 3), activation='relu')) \n",
    "model_v1.add(MaxPooling2D((2, 2)))\n",
    "model_v1.add(Conv2D(64, (3, 3),  activation='relu'))\n",
    "model_v1.add(Conv2D(64, (3, 3),activation='relu'))   \n",
    "model_v1.add(MaxPooling2D((2, 2)))\n",
    "model_v1.add(Conv2D(128, (3, 3), activation='relu')) \n",
    "model_v1.add(Conv2D(128, (3, 3), activation='relu')) \n",
    "model_v1.add(Flatten())\n",
    "# model.add(Dropout())\n",
    "model_v1.add(Dense(12,activation='softmax'))\n",
    "\n",
    "model_v1.compile(optimizer = 'adam', loss = 'categorical_crossentropy', metrics = ['accuracy'])\n",
    "\n"
   ]
  },
  {
   "cell_type": "code",
   "execution_count": 288,
   "metadata": {},
   "outputs": [
    {
     "name": "stdout",
     "output_type": "stream",
     "text": [
      "Found 399 images belonging to 12 classes.\n",
      "Found 100 images belonging to 12 classes.\n",
      "Found 125 images belonging to 12 classes.\n"
     ]
    }
   ],
   "source": [
    "training_set_v1 = train_datagen.flow_from_directory('main/train/',\n",
    "                                                 target_size = TARGET_SIZE,\n",
    "                                                 batch_size = 32,\n",
    "                                                 class_mode = 'categorical')\n",
    "val_set_v1 = test_datagen.flow_from_directory('main/val/',\n",
    "                                            target_size = TARGET_SIZE,\n",
    "                                            batch_size = 32,\n",
    "                                            class_mode = 'categorical')\n",
    "test_set_v1 = test_datagen.flow_from_directory('main/test/',\n",
    "                                            target_size = TARGET_SIZE,\n",
    "                                            batch_size = 32,\n",
    "                                            class_mode = 'categorical')"
   ]
  },
  {
   "cell_type": "code",
   "execution_count": 291,
   "metadata": {},
   "outputs": [
    {
     "name": "stdout",
     "output_type": "stream",
     "text": [
      "\u001b[33mWARNING: You are using pip version 20.0.2; however, version 20.1 is available.\r\n",
      "You should consider upgrading via the '/Library/Frameworks/Python.framework/Versions/3.8/bin/python3.8 -m pip install --upgrade pip' command.\u001b[0m\r\n"
     ]
    }
   ],
   "source": [
    "!pip install -q pyyaml h5py\n",
    "import tensorflow as tf"
   ]
  },
  {
   "cell_type": "markdown",
   "metadata": {},
   "source": [
    "# Don't run the following cell, it is for demonstration purposes, we are going to show how we work to improve model accuracy"
   ]
  },
  {
   "cell_type": "code",
   "execution_count": 293,
   "metadata": {
    "scrolled": false
   },
   "outputs": [
    {
     "name": "stdout",
     "output_type": "stream",
     "text": [
      "Epoch 1/12\n",
      "13/13 [==============================] - 111s 9s/step - loss: 2.5556 - accuracy: 0.1178 - val_loss: 2.4489 - val_accuracy: 0.1400\n",
      "Epoch 2/12\n",
      "13/13 [==============================] - 110s 8s/step - loss: 2.4418 - accuracy: 0.1178 - val_loss: 2.0686 - val_accuracy: 0.1200\n",
      "Epoch 3/12\n",
      "13/13 [==============================] - 109s 8s/step - loss: 2.2888 - accuracy: 0.1905 - val_loss: 2.5799 - val_accuracy: 0.2500\n",
      "Epoch 4/12\n",
      "13/13 [==============================] - 109s 8s/step - loss: 2.1144 - accuracy: 0.3158 - val_loss: 2.0491 - val_accuracy: 0.2800\n",
      "Epoch 5/12\n",
      "13/13 [==============================] - 109s 8s/step - loss: 1.8643 - accuracy: 0.3810 - val_loss: 1.4774 - val_accuracy: 0.3900\n",
      "Epoch 6/12\n",
      "13/13 [==============================] - 112s 9s/step - loss: 1.7053 - accuracy: 0.4486 - val_loss: 1.4883 - val_accuracy: 0.4100\n",
      "Epoch 7/12\n",
      "13/13 [==============================] - 116s 9s/step - loss: 1.4378 - accuracy: 0.5238 - val_loss: 0.8253 - val_accuracy: 0.4500\n",
      "Epoch 8/12\n",
      "13/13 [==============================] - 111s 9s/step - loss: 1.4659 - accuracy: 0.5338 - val_loss: 1.6852 - val_accuracy: 0.5300\n",
      "Epoch 9/12\n",
      "13/13 [==============================] - 107s 8s/step - loss: 1.1583 - accuracy: 0.5940 - val_loss: 2.0303 - val_accuracy: 0.5400\n",
      "Epoch 10/12\n",
      "13/13 [==============================] - 114s 9s/step - loss: 1.0828 - accuracy: 0.6491 - val_loss: 1.1042 - val_accuracy: 0.5700\n",
      "Epoch 11/12\n",
      "13/13 [==============================] - 109s 8s/step - loss: 0.8667 - accuracy: 0.7193 - val_loss: 0.6653 - val_accuracy: 0.6400\n",
      "Epoch 12/12\n",
      "13/13 [==============================] - 107s 8s/step - loss: 0.7716 - accuracy: 0.7544 - val_loss: 1.2816 - val_accuracy: 0.6100\n"
     ]
    }
   ],
   "source": [
    "checkpoint_path = \"training_v1/cp.ckpt\"\n",
    "checkpoint_dir = os.path.dirname(checkpoint_path)\n",
    "\n",
    "# we create a callback for the model to save the weights during epochs\n",
    "cp_callback = tf.keras.callbacks.ModelCheckpoint(filepath=checkpoint_path,\n",
    "                                                 save_weights_only=True,\n",
    "                                                 verbose=1)\n",
    "\n",
    "history_v1 = model_v1.fit_generator(training_set, steps_per_epoch = 13, epochs = 12,\\\n",
    "                              validation_data = val_set, validation_steps = 4)"
   ]
  },
  {
   "cell_type": "markdown",
   "metadata": {},
   "source": [
    "Comparing with results of the previous model we see that our assumption was true, Dropout really affect on the train accuracy, however, this is definitely not the main reason. Let's see at the graph, and what we see? From the plots we see that our model isn't converging...There's can be several reasons, but.. Our training looks less or more stable, so we don't need to reduce our learning rate to prevent model from bouncing around in parameter space. But we can simplify the model and so we ensure that our model is better than some baseline model, and after that we can add some complexity"
   ]
  },
  {
   "cell_type": "code",
   "execution_count": 463,
   "metadata": {},
   "outputs": [
    {
     "data": {
      "image/png": "[encoded data removed]",
      "text/plain": [
       "<Figure size 432x288 with 1 Axes>"
      ]
     },
     "metadata": {},
     "output_type": "display_data"
    },
    {
     "data": {
      "image/png": "[encoded data removed]",
      "text/plain": [
       "<Figure size 432x288 with 1 Axes>"
      ]
     },
     "metadata": {},
     "output_type": "display_data"
    }
   ],
   "source": [
    "plot_history(history_v1)"
   ]
  },
  {
   "cell_type": "code",
   "execution_count": 319,
   "metadata": {},
   "outputs": [],
   "source": [
    "# third try \n",
    "model_v2 = Sequential()\n",
    "model_v2.add(Conv2D(32, (3, 3), activation='relu', input_shape=(250, 250, 3)))\n",
    "# model_v2.add(Conv2D(32, (3, 3), activation='relu'))  \n",
    "# model_v2.add(Conv2D(32, (3, 3), activation='relu'))\n",
    "model_v2.add(MaxPooling2D((2, 2)))\n",
    "model_v2.add(Conv2D(64, (3, 3),  activation='relu'))\n",
    "# model_v2.add(Conv2D(64, (3, 3),activation='relu'))\n",
    "model_v2.add(MaxPooling2D((2, 2)))\n",
    "model_v2.add(Conv2D(128, (3, 3), activation='relu')) \n",
    "# model_v2.add(Conv2D(128, (3, 3), activation='relu')) \n",
    "model_v2.add(Flatten())\n",
    "# model.add(Dropout())\n",
    "model_v2.add(Dense(12,activation='softmax'))\n",
    "\n",
    "model_v2.compile(optimizer = 'adam', loss = 'categorical_crossentropy', metrics = ['accuracy'])\n"
   ]
  },
  {
   "cell_type": "code",
   "execution_count": 317,
   "metadata": {},
   "outputs": [
    {
     "name": "stdout",
     "output_type": "stream",
     "text": [
      "Found 399 images belonging to 12 classes.\n",
      "Found 100 images belonging to 12 classes.\n",
      "Found 125 images belonging to 12 classes.\n"
     ]
    }
   ],
   "source": [
    "training_set_v2 = train_datagen.flow_from_directory('main/train/',\n",
    "                                                 target_size = TARGET_SIZE,\n",
    "                                                 batch_size = 32,\n",
    "                                                 class_mode = 'categorical')\n",
    "val_set_v2 = test_datagen.flow_from_directory('main/val/',\n",
    "                                            target_size = TARGET_SIZE,\n",
    "                                            batch_size = 32,\n",
    "                                            class_mode = 'categorical')\n",
    "test_set_v2 = test_datagen.flow_from_directory('main/test/',\n",
    "                                            target_size = TARGET_SIZE,\n",
    "                                            batch_size = 32,\n",
    "                                            class_mode = 'categorical')"
   ]
  },
  {
   "cell_type": "markdown",
   "metadata": {},
   "source": [
    "# Don't run the following cell, it is for demonstration purposes, we are going to show how we work to improve model accuracy"
   ]
  },
  {
   "cell_type": "code",
   "execution_count": 320,
   "metadata": {},
   "outputs": [
    {
     "name": "stdout",
     "output_type": "stream",
     "text": [
      "Epoch 1/15\n",
      "26/26 [==============================] - 59s 2s/step - loss: 2.6928 - accuracy: 0.1516 - val_loss: 2.4090 - val_accuracy: 0.2600\n",
      "Epoch 2/15\n",
      "26/26 [==============================] - 57s 2s/step - loss: 1.9433 - accuracy: 0.3358 - val_loss: 1.6195 - val_accuracy: 0.4300\n",
      "Epoch 3/15\n",
      "26/26 [==============================] - 57s 2s/step - loss: 1.4594 - accuracy: 0.5288 - val_loss: 1.1412 - val_accuracy: 0.4700\n",
      "Epoch 4/15\n",
      "26/26 [==============================] - 57s 2s/step - loss: 1.0171 - accuracy: 0.6842 - val_loss: 1.4855 - val_accuracy: 0.5500\n",
      "Epoch 5/15\n",
      "26/26 [==============================] - 58s 2s/step - loss: 0.8139 - accuracy: 0.7381 - val_loss: 2.1266 - val_accuracy: 0.6400\n",
      "Epoch 6/15\n",
      "26/26 [==============================] - 58s 2s/step - loss: 0.5477 - accuracy: 0.8208 - val_loss: 0.6271 - val_accuracy: 0.6700\n",
      "Epoch 7/15\n",
      "26/26 [==============================] - 59s 2s/step - loss: 0.4485 - accuracy: 0.8509 - val_loss: 3.2903 - val_accuracy: 0.6700\n",
      "Epoch 8/15\n",
      "26/26 [==============================] - 59s 2s/step - loss: 0.3118 - accuracy: 0.8997 - val_loss: 0.7312 - val_accuracy: 0.7500\n",
      "Epoch 9/15\n",
      "26/26 [==============================] - 59s 2s/step - loss: 0.1937 - accuracy: 0.9436 - val_loss: 4.2312 - val_accuracy: 0.7600\n",
      "Epoch 10/15\n",
      "26/26 [==============================] - 59s 2s/step - loss: 0.1648 - accuracy: 0.9461 - val_loss: 3.5433e-05 - val_accuracy: 0.8000\n",
      "Epoch 11/15\n",
      "26/26 [==============================] - 72s 3s/step - loss: 0.1703 - accuracy: 0.9524 - val_loss: 0.9912 - val_accuracy: 0.7700\n",
      "Epoch 12/15\n",
      "26/26 [==============================] - 69s 3s/step - loss: 0.2040 - accuracy: 0.9436 - val_loss: 1.9807 - val_accuracy: 0.7200\n",
      "Epoch 13/15\n",
      "26/26 [==============================] - 67s 3s/step - loss: 0.1719 - accuracy: 0.9536 - val_loss: 0.6200 - val_accuracy: 0.7300\n",
      "Epoch 14/15\n",
      "26/26 [==============================] - 70s 3s/step - loss: 0.1116 - accuracy: 0.9586 - val_loss: 0.1521 - val_accuracy: 0.7800\n",
      "Epoch 15/15\n",
      "26/26 [==============================] - 63s 2s/step - loss: 0.0850 - accuracy: 0.9812 - val_loss: 1.4200 - val_accuracy: 0.8000\n"
     ]
    }
   ],
   "source": [
    "history_v2 = model_v2.fit_generator(training_set_v2, steps_per_epoch = 26, epochs = 15,\\\n",
    "                              validation_data = val_set_v2, validation_steps = 8)"
   ]
  },
  {
   "cell_type": "markdown",
   "metadata": {},
   "source": [
    "Exactly the third attempt and there's convergence, however, there is no reasons for joying. From the plot of losses we can see that our model is overfitted. What we can do in that case? Two main methods is to introduce dropout or regularization. We make our model less complex, but now, it's time to do it again. Also, it can be problems with division, our dataset can looks like very small and can't generalize. I.e small number of validation data in comparing with train data. "
   ]
  },
  {
   "cell_type": "code",
   "execution_count": 464,
   "metadata": {},
   "outputs": [
    {
     "data": {
      "image/png": "[encoded data removed]",
      "text/plain": [
       "<Figure size 432x288 with 1 Axes>"
      ]
     },
     "metadata": {},
     "output_type": "display_data"
    },
    {
     "data": {
      "image/png": "[encoded data removed]",
      "text/plain": [
       "<Figure size 432x288 with 1 Axes>"
      ]
     },
     "metadata": {},
     "output_type": "display_data"
    }
   ],
   "source": [
    "plot_history(history_v2)"
   ]
  },
  {
   "cell_type": "code",
   "execution_count": 503,
   "metadata": {},
   "outputs": [
    {
     "name": "stdout",
     "output_type": "stream",
     "text": [
      "Directory  main/train/  Created \n",
      "Directory  main/test/  Created \n",
      "Directory  main/val/  Created \n"
     ]
    }
   ],
   "source": [
    "train_v, test_v = train_test_split(targets, test_size=0.2)\n",
    "train_v, val_v = train_test_split(train_v, test_size=0.2)\n",
    "save_dataset(train_v,\"train/\")\n",
    "save_dataset(test_v,\"test/\")\n",
    "save_dataset(val_v,\"val/\")"
   ]
  },
  {
   "cell_type": "code",
   "execution_count": null,
   "metadata": {},
   "outputs": [],
   "source": []
  },
  {
   "cell_type": "code",
   "execution_count": 504,
   "metadata": {},
   "outputs": [],
   "source": [
    "best_model = Sequential()\n",
    "best_model.add(Conv2D(32, (3, 3), kernel_regularizer = regularizers.l2(0.01), activation='relu', input_shape=(250, 250, 3)))\n",
    "best_model.add(MaxPooling2D((2, 2)))\n",
    "best_model.add(Conv2D(64, (3, 3),kernel_regularizer = regularizers.l2(0.01),  activation='relu'))\n",
    "best_model.add(MaxPooling2D((2, 2)))\n",
    "best_model.add(Conv2D(128, (3, 3), kernel_regularizer = regularizers.l2(0.01),activation='relu')) \n",
    "best_model.add(Flatten())\n",
    "best_model.add(Dropout(0.2))\n",
    "best_model.add(Dense(128,activation='relu'))\n",
    "best_model.add(Dense(12,activation='softmax'))\n",
    "best_model.compile(optimizer = 'adam', loss = 'categorical_crossentropy', metrics = ['accuracy',precision,recall])\n"
   ]
  },
  {
   "cell_type": "code",
   "execution_count": 505,
   "metadata": {},
   "outputs": [
    {
     "name": "stdout",
     "output_type": "stream",
     "text": [
      "Found 399 images belonging to 12 classes.\n",
      "Found 100 images belonging to 12 classes.\n",
      "Found 125 images belonging to 12 classes.\n"
     ]
    }
   ],
   "source": [
    "best_training_set = train_datagen.flow_from_directory('main/train/',\n",
    "                                                 target_size = TARGET_SIZE,\n",
    "                                                 batch_size = 32,\n",
    "                                                 class_mode = 'categorical')\n",
    "best_val_set = test_datagen.flow_from_directory('main/val/',\n",
    "                                            target_size = TARGET_SIZE,\n",
    "                                            batch_size = 32,\n",
    "                                            class_mode = 'categorical')\n",
    "best_test_set = test_datagen.flow_from_directory('main/test/',\n",
    "                                            target_size = TARGET_SIZE,\n",
    "                                            batch_size = 32,\n",
    "                                            class_mode = 'categorical')"
   ]
  },
  {
   "cell_type": "code",
   "execution_count": 506,
   "metadata": {
    "scrolled": true
   },
   "outputs": [
    {
     "name": "stdout",
     "output_type": "stream",
     "text": [
      "Epoch 1/2\n",
      "399/399 [==============================] - 1424s 4s/step - loss: 1.3605 - accuracy: 0.7087 - precision: 0.7809 - recall: 0.6099 - val_loss: 2.2749 - val_accuracy: 0.7200 - val_precision: 0.7717 - val_recall: 0.6944\n",
      "Epoch 2/2\n",
      "399/399 [==============================] - 1340s 3s/step - loss: 0.3090 - accuracy: 0.9727 - precision: 0.9773 - recall: 0.9688 - val_loss: 2.7659 - val_accuracy: 0.7400 - val_precision: 0.7666 - val_recall: 0.7156\n"
     ]
    }
   ],
   "source": [
    "best_history = best_model.fit_generator(best_training_set, steps_per_epoch = 399, epochs = 2,\\\n",
    "                              validation_data = best_val_set, validation_steps = 100)"
   ]
  },
  {
   "cell_type": "code",
   "execution_count": 638,
   "metadata": {},
   "outputs": [
    {
     "name": "stdout",
     "output_type": "stream",
     "text": [
      "Model: \"sequential_50\"\n",
      "_________________________________________________________________\n",
      "Layer (type)                 Output Shape              Param #   \n",
      "=================================================================\n",
      "conv2d_155 (Conv2D)          (None, 248, 248, 32)      896       \n",
      "_________________________________________________________________\n",
      "max_pooling2d_52 (MaxPooling (None, 124, 124, 32)      0         \n",
      "_________________________________________________________________\n",
      "conv2d_156 (Conv2D)          (None, 122, 122, 64)      18496     \n",
      "_________________________________________________________________\n",
      "max_pooling2d_53 (MaxPooling (None, 61, 61, 64)        0         \n",
      "_________________________________________________________________\n",
      "conv2d_157 (Conv2D)          (None, 59, 59, 128)       73856     \n",
      "_________________________________________________________________\n",
      "flatten_27 (Flatten)         (None, 445568)            0         \n",
      "_________________________________________________________________\n",
      "dropout_19 (Dropout)         (None, 445568)            0         \n",
      "_________________________________________________________________\n",
      "dense_30 (Dense)             (None, 128)               57032832  \n",
      "_________________________________________________________________\n",
      "dense_31 (Dense)             (None, 12)                1548      \n",
      "=================================================================\n",
      "Total params: 57,127,628\n",
      "Trainable params: 57,127,628\n",
      "Non-trainable params: 0\n",
      "_________________________________________________________________\n"
     ]
    }
   ],
   "source": [
    "best_model.summary()"
   ]
  },
  {
   "cell_type": "code",
   "execution_count": 484,
   "metadata": {},
   "outputs": [],
   "source": [
    "from keras import optimizers"
   ]
  },
  {
   "cell_type": "code",
   "execution_count": 492,
   "metadata": {},
   "outputs": [],
   "source": [
    "import keras.backend as K\n",
    "\n",
    "def precision(y_true, y_pred):\n",
    "    true_positives = K.sum(K.round(K.clip(y_true * y_pred, 0, 1)))\n",
    "    predicted_positives = K.sum(K.round(K.clip(y_pred, 0, 1)))\n",
    "    precision = true_positives / (predicted_positives + K.epsilon())\n",
    "    return precision\n",
    "def recall(y_true, y_pred):\n",
    "    true_positives = K.sum(K.round(K.clip(y_true * y_pred, 0, 1)))\n",
    "    possible_positives = K.sum(K.round(K.clip(y_true, 0, 1)))\n",
    "    recall = true_positives / (possible_positives + K.epsilon())\n",
    "    return recall"
   ]
  },
  {
   "cell_type": "code",
   "execution_count": 368,
   "metadata": {},
   "outputs": [],
   "source": [
    "from keras import backend as K\n",
    "def l1_reg(weight_matrix):\n",
    "    return 0.01 * K.sum(K.abs(weight_matrix))\n",
    "from keras import regularizers"
   ]
  },
  {
   "cell_type": "code",
   "execution_count": 602,
   "metadata": {},
   "outputs": [],
   "source": [
    "test_names = []\n",
    "for i in range(len(best_test_set.filenames)):\n",
    "    test_names.append(best_test_set.filenames[i])\n",
    "for i in range(len(test_names)):\n",
    "    test_names[i] = test_names[i].split(\"/\")[0]\n",
    "multi_test_name_order = list(OrderedDict.fromkeys(test_names))"
   ]
  },
  {
   "cell_type": "code",
   "execution_count": 603,
   "metadata": {},
   "outputs": [
    {
     "data": {
      "text/plain": [
       "['Ariel_Sharon',\n",
       " 'Colin_Powell',\n",
       " 'Donald_Rumsfeld',\n",
       " 'George_W_Bush',\n",
       " 'Gerhard_Schroeder',\n",
       " 'Hugo_Chavez',\n",
       " 'Jacques_Chirac',\n",
       " 'Jean_Chretien',\n",
       " 'John_Ashcroft',\n",
       " 'Junichiro_Koizumi',\n",
       " 'Serena_Williams',\n",
       " 'Tony_Blair']"
      ]
     },
     "execution_count": 603,
     "metadata": {},
     "output_type": "execute_result"
    }
   ],
   "source": [
    "multi_test_name_order"
   ]
  },
  {
   "cell_type": "code",
   "execution_count": 604,
   "metadata": {},
   "outputs": [],
   "source": [
    "def predict(dir_name,classifier,binary):\n",
    "    predictions = []\n",
    "    for im in os.listdir(dir_name):\n",
    "        test_image = image.load_img(dir_name + str(im), target_size = (250,250))\n",
    "        test_image = image.img_to_array(test_image)\n",
    "        test_image = np.expand_dims(test_image, axis = 0)\n",
    "        if(binary is True):\n",
    "            result = float(str(classifier.predict(test_image))[2])\n",
    "        else:\n",
    "            result = np.argmax(classifier.predict(test_image))\n",
    "        predictions.append(result)\n",
    "    return(predictions)"
   ]
  },
  {
   "cell_type": "code",
   "execution_count": 635,
   "metadata": {},
   "outputs": [
    {
     "name": "stdout",
     "output_type": "stream",
     "text": [
      "Ariel_Sharon\n"
     ]
    },
    {
     "data": {
      "image/png": "[encoded data removed]",
      "text/plain": [
       "<Figure size 432x288 with 1 Axes>"
      ]
     },
     "metadata": {},
     "output_type": "display_data"
    }
   ],
   "source": [
    "tested_image = image.load_img('./main/test/Ariel_Sharon/Ariel_Sharon_0041.jpg',target_size = (250,250))\n",
    "plt.imshow(tested_image)\n",
    "tested_image = image.img_to_array(tested_image)\n",
    "tested_image = np.expand_dims(tested_image, axis=0)\n",
    "print(multi_test_name_order[np.argmax(best_model.predict(tested_image))])"
   ]
  },
  {
   "cell_type": "code",
   "execution_count": 636,
   "metadata": {},
   "outputs": [
    {
     "name": "stdout",
     "output_type": "stream",
     "text": [
      "Ariel_Sharon\n",
      "Colin_Powell\n",
      "Donald_Rumsfeld\n",
      "George_W_Bush\n",
      "Gerhard_Schroeder\n",
      "Hugo_Chavez\n",
      "Jacques_Chirac\n",
      "Jean_Chretien\n",
      "John_Ashcroft\n",
      "Junichiro_Koizumi\n",
      "Serena_Williams\n",
      "Tony_Blair\n"
     ]
    }
   ],
   "source": [
    "correct = []\n",
    "predicted = []\n",
    "for i in range(len(multi_test_name_order)):\n",
    "    print(multi_test_name_order[i])\n",
    "    array = predict(\"main/test/\" + multi_test_name_order[i] + \"/\", best_model,binary=False)\n",
    "    to_correct = [i for elem in array]\n",
    "    correct.append(to_correct)\n",
    "    predicted.append(array)"
   ]
  },
  {
   "cell_type": "code",
   "execution_count": 637,
   "metadata": {},
   "outputs": [
    {
     "name": "stdout",
     "output_type": "stream",
     "text": [
      "                   precision    recall  f1-score   support\n",
      "\n",
      "     Ariel_Sharon       0.67      0.31      0.42        13\n",
      "     Colin_Powell       0.50      0.83      0.62        12\n",
      "  Donald_Rumsfeld       0.58      0.70      0.64        10\n",
      "    George_W_Bush       0.83      0.56      0.67         9\n",
      "Gerhard_Schroeder       0.86      0.40      0.55        15\n",
      "      Hugo_Chavez       0.60      0.38      0.46         8\n",
      "   Jacques_Chirac       0.35      0.67      0.46         9\n",
      "    Jean_Chretien       0.77      0.62      0.69        16\n",
      "    John_Ashcroft       0.31      1.00      0.47         4\n",
      "Junichiro_Koizumi       0.73      1.00      0.84         8\n",
      "  Serena_Williams       1.00      0.82      0.90        11\n",
      "       Tony_Blair       0.67      0.40      0.50        10\n",
      "\n",
      "         accuracy                           0.61       125\n",
      "        macro avg       0.66      0.64      0.60       125\n",
      "     weighted avg       0.69      0.61      0.61       125\n",
      "\n"
     ]
    }
   ],
   "source": [
    "target_names =  multi_test_name_order\n",
    "\n",
    "correct_flat = [item for sublist in correct for item in sublist]\n",
    "predicted_flat = [item for sublist in predicted for item in sublist]\n",
    "\n",
    "from sklearn.metrics import classification_report\n",
    "print(classification_report(correct_flat, predicted_flat, target_names=target_names))\n"
   ]
  },
  {
   "cell_type": "code",
   "execution_count": null,
   "metadata": {},
   "outputs": [],
   "source": []
  },
  {
   "cell_type": "code",
   "execution_count": null,
   "metadata": {},
   "outputs": [],
   "source": []
  },
  {
   "cell_type": "code",
   "execution_count": null,
   "metadata": {},
   "outputs": [],
   "source": []
  },
  {
   "cell_type": "code",
   "execution_count": null,
   "metadata": {},
   "outputs": [],
   "source": []
  },
  {
   "cell_type": "code",
   "execution_count": null,
   "metadata": {},
   "outputs": [],
   "source": []
  },
  {
   "cell_type": "code",
   "execution_count": null,
   "metadata": {},
   "outputs": [],
   "source": []
  },
  {
   "cell_type": "code",
   "execution_count": null,
   "metadata": {},
   "outputs": [],
   "source": []
  },
  {
   "cell_type": "code",
   "execution_count": null,
   "metadata": {},
   "outputs": [],
   "source": []
  },
  {
   "cell_type": "code",
   "execution_count": null,
   "metadata": {},
   "outputs": [],
   "source": []
  },
  {
   "cell_type": "code",
   "execution_count": null,
   "metadata": {},
   "outputs": [],
   "source": []
  },
  {
   "cell_type": "code",
   "execution_count": null,
   "metadata": {
    "scrolled": true
   },
   "outputs": [],
   "source": []
  },
  {
   "cell_type": "code",
   "execution_count": null,
   "metadata": {},
   "outputs": [],
   "source": []
  },
  {
   "cell_type": "code",
   "execution_count": null,
   "metadata": {},
   "outputs": [],
   "source": []
  },
  {
   "cell_type": "code",
   "execution_count": null,
   "metadata": {},
   "outputs": [],
   "source": []
  },
  {
   "cell_type": "code",
   "execution_count": null,
   "metadata": {},
   "outputs": [],
   "source": []
  },
  {
   "cell_type": "code",
   "execution_count": null,
   "metadata": {},
   "outputs": [],
   "source": []
  },
  {
   "cell_type": "code",
   "execution_count": null,
   "metadata": {},
   "outputs": [],
   "source": []
  },
  {
   "cell_type": "code",
   "execution_count": null,
   "metadata": {},
   "outputs": [],
   "source": []
  },
  {
   "cell_type": "code",
   "execution_count": null,
   "metadata": {},
   "outputs": [],
   "source": []
  },
  {
   "cell_type": "code",
   "execution_count": null,
   "metadata": {},
   "outputs": [],
   "source": []
  },
  {
   "cell_type": "code",
   "execution_count": null,
   "metadata": {},
   "outputs": [],
   "source": []
  }
 ],
 "metadata": {
  "kernelspec": {
   "display_name": "Python 3",
   "language": "python",
   "name": "python3"
  },
  "language_info": {
   "codemirror_mode": {
    "name": "ipython",
    "version": 3
   },
   "file_extension": ".py",
   "mimetype": "text/x-python",
   "name": "python",
   "nbconvert_exporter": "python",
   "pygments_lexer": "ipython3",
   "version": "3.7.3"
  }
 },
 "nbformat": 4,
 "nbformat_minor": 4
}
